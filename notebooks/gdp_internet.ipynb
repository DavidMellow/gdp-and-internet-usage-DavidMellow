{
 "cells": [
  {
   "cell_type": "code",
   "execution_count": 17,
   "metadata": {},
   "outputs": [],
   "source": [
    "import pandas as pd \n",
    "import numpy as np  \n",
    "import matplotlib.pyplot as plt  \n",
    "import seaborn as sns"
   ]
  },
  {
   "cell_type": "code",
   "execution_count": 35,
   "metadata": {},
   "outputs": [],
   "source": [
    "%matplotlib inline"
   ]
  },
  {
   "cell_type": "code",
   "execution_count": 36,
   "metadata": {},
   "outputs": [],
   "source": [
    "gdp_df=pd.read_csv('../data/gdp_percapita.csv')"
   ]
  },
  {
   "cell_type": "code",
   "execution_count": 37,
   "metadata": {},
   "outputs": [
    {
     "name": "stdout",
     "output_type": "stream",
     "text": [
      "  Country or Area  Year        Value  Value Footnotes  Footnote Number  \\\n",
      "0     Afghanistan  2018  1734.723214              NaN              NaN   \n",
      "1     Afghanistan  2017  1758.465636              NaN              NaN   \n",
      "2     Afghanistan  2016  1757.023490              NaN              NaN   \n",
      "3     Afghanistan  2015  1766.593077              NaN              NaN   \n",
      "4     Afghanistan  2014  1795.735834              NaN              NaN   \n",
      "5     Afghanistan  2013  1807.762344              NaN              NaN   \n",
      "\n",
      "   Footnote String  \n",
      "0              NaN  \n",
      "1              NaN  \n",
      "2              NaN  \n",
      "3              NaN  \n",
      "4              NaN  \n",
      "5              NaN  \n"
     ]
    }
   ],
   "source": [
    "print(gdp_df.head(6))"
   ]
  },
  {
   "cell_type": "code",
   "execution_count": 33,
   "metadata": {},
   "outputs": [],
   "source": [
    "internet_df=pd.read_csv('../data/internet_use.csv')"
   ]
  },
  {
   "cell_type": "code",
   "execution_count": 34,
   "metadata": {},
   "outputs": [
    {
     "name": "stdout",
     "output_type": "stream",
     "text": [
      "  Country or Area  Year             Value Value Footnotes  Footnote Number  \\\n",
      "0     Afghanistan  2014              6.39             NaN              NaN   \n",
      "1     Afghanistan  2013               5.9             NaN              NaN   \n",
      "2     Afghanistan  2012  5.45454545454545             NaN              NaN   \n",
      "3     Afghanistan  2011                 5             NaN              NaN   \n",
      "4     Afghanistan  2010                 4             NaN              NaN   \n",
      "5     Afghanistan  2009              3.55             NaN              NaN   \n",
      "\n",
      "  Footnote String  \n",
      "0             NaN  \n",
      "1             NaN  \n",
      "2             NaN  \n",
      "3             NaN  \n",
      "4             NaN  \n",
      "5             NaN  \n"
     ]
    }
   ],
   "source": [
    "print(internet_df.head(6))"
   ]
  },
  {
   "cell_type": "code",
   "execution_count": 40,
   "metadata": {},
   "outputs": [
    {
     "name": "stdout",
     "output_type": "stream",
     "text": [
      "(6731, 6)\n"
     ]
    }
   ],
   "source": [
    "np_gdp=np.array(gdp_df)\n",
    "print(np_gdp.shape)"
   ]
  },
  {
   "cell_type": "code",
   "execution_count": 42,
   "metadata": {},
   "outputs": [
    {
     "name": "stdout",
     "output_type": "stream",
     "text": [
      "(4676, 6)\n"
     ]
    }
   ],
   "source": [
    "np_internet=np.array(internet_df)\n",
    "print(np_internet.shape)"
   ]
  },
  {
   "cell_type": "code",
   "execution_count": null,
   "metadata": {},
   "outputs": [],
   "source": []
  }
 ],
 "metadata": {
  "kernelspec": {
   "display_name": "Python 3",
   "language": "python",
   "name": "python3"
  },
  "language_info": {
   "codemirror_mode": {
    "name": "ipython",
    "version": 3
   },
   "file_extension": ".py",
   "mimetype": "text/x-python",
   "name": "python",
   "nbconvert_exporter": "python",
   "pygments_lexer": "ipython3",
   "version": "3.7.6"
  }
 },
 "nbformat": 4,
 "nbformat_minor": 4
}
