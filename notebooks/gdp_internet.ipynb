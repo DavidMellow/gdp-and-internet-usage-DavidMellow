{
 "cells": [
  {
   "cell_type": "code",
   "execution_count": 142,
   "metadata": {},
   "outputs": [],
   "source": [
    "import pandas as pd \n",
    "import numpy as np  \n",
    "import matplotlib.pyplot as plt  \n",
    "import seaborn as sns"
   ]
  },
  {
   "cell_type": "code",
   "execution_count": 143,
   "metadata": {},
   "outputs": [],
   "source": [
    "%matplotlib inline"
   ]
  },
  {
   "cell_type": "code",
   "execution_count": 144,
   "metadata": {},
   "outputs": [],
   "source": [
    "gdp_df=pd.read_csv('data/gdp_percapita.csv',nrows=6729) #imports data w/o footnotes - does not affect data table in data folder"
   ]
  },
  {
   "cell_type": "code",
   "execution_count": 145,
   "metadata": {},
   "outputs": [
    {
     "name": "stdout",
     "output_type": "stream",
     "text": [
      "  Country or Area  Year        Value  Value Footnotes\n",
      "0     Afghanistan  2018  1734.723214              NaN\n",
      "1     Afghanistan  2017  1758.465636              NaN\n",
      "2     Afghanistan  2016  1757.023490              NaN\n",
      "3     Afghanistan  2015  1766.593077              NaN\n",
      "4     Afghanistan  2014  1795.735834              NaN\n",
      "5     Afghanistan  2013  1807.762344              NaN\n"
     ]
    }
   ],
   "source": [
    "print(gdp_df.head(6))"
   ]
  },
  {
   "cell_type": "code",
   "execution_count": 146,
   "metadata": {},
   "outputs": [
    {
     "name": "stdout",
     "output_type": "stream",
     "text": [
      "     Country or Area  Year        Value  Value Footnotes\n",
      "6723        Zimbabwe  1995  2736.486436              NaN\n",
      "6724        Zimbabwe  1994  2768.309953              NaN\n",
      "6725        Zimbabwe  1993  2572.870395              NaN\n",
      "6726        Zimbabwe  1992  2591.007534              NaN\n",
      "6727        Zimbabwe  1991  2906.272849              NaN\n",
      "6728        Zimbabwe  1990  2819.549467              NaN\n"
     ]
    }
   ],
   "source": [
    "print(gdp_df.tail(6))"
   ]
  },
  {
   "cell_type": "code",
   "execution_count": 147,
   "metadata": {},
   "outputs": [],
   "source": [
    "internet_df=pd.read_csv('data/internet_use.csv',nrows=4495)#imports data w/o footnotes - does not affect data table in data folder"
   ]
  },
  {
   "cell_type": "code",
   "execution_count": 148,
   "metadata": {},
   "outputs": [
    {
     "name": "stdout",
     "output_type": "stream",
     "text": [
      "  Country or Area  Year     Value  Value Footnotes\n",
      "0     Afghanistan  2014  6.390000              NaN\n",
      "1     Afghanistan  2013  5.900000              NaN\n",
      "2     Afghanistan  2012  5.454545              NaN\n",
      "3     Afghanistan  2011  5.000000              NaN\n",
      "4     Afghanistan  2010  4.000000              NaN\n",
      "5     Afghanistan  2009  3.550000              NaN\n"
     ]
    }
   ],
   "source": [
    "print(internet_df.head(6))"
   ]
  },
  {
   "cell_type": "code",
   "execution_count": 149,
   "metadata": {},
   "outputs": [
    {
     "name": "stdout",
     "output_type": "stream",
     "text": [
      "     Country or Area  Year     Value  Value Footnotes\n",
      "4489        Zimbabwe  1998  0.081648              NaN\n",
      "4490        Zimbabwe  1997  0.033080              NaN\n",
      "4491        Zimbabwe  1996  0.016790              NaN\n",
      "4492        Zimbabwe  1995  0.007684              NaN\n",
      "4493        Zimbabwe  1994  0.001739              NaN\n",
      "4494        Zimbabwe  1990  0.000000              NaN\n"
     ]
    }
   ],
   "source": [
    "print(internet_df.tail(6))"
   ]
  },
  {
   "cell_type": "code",
   "execution_count": 150,
   "metadata": {},
   "outputs": [
    {
     "name": "stdout",
     "output_type": "stream",
     "text": [
      "(6729, 4)\n"
     ]
    }
   ],
   "source": [
    "#np_gdp=np.array(gdp_df) -thought I had to convert to numpy array to see shape\n",
    "print(gdp_df.shape)"
   ]
  },
  {
   "cell_type": "code",
   "execution_count": 151,
   "metadata": {},
   "outputs": [
    {
     "name": "stdout",
     "output_type": "stream",
     "text": [
      "(4495, 4)\n"
     ]
    }
   ],
   "source": [
    "#np_internet=np.array(internet_df) -thought I had to convert to numpy array to see shape\n",
    "print(internet_df.shape)"
   ]
  },
  {
   "cell_type": "code",
   "execution_count": 152,
   "metadata": {},
   "outputs": [
    {
     "name": "stdout",
     "output_type": "stream",
     "text": [
      "<class 'pandas.core.frame.DataFrame'>\n"
     ]
    }
   ],
   "source": [
    "#print(type(np_gdp))\n",
    "print(type(gdp_df))"
   ]
  },
  {
   "cell_type": "code",
   "execution_count": 153,
   "metadata": {},
   "outputs": [
    {
     "name": "stdout",
     "output_type": "stream",
     "text": [
      "<bound method DataFrame.info of      Country or Area  Year        Value  Value Footnotes\n",
      "0        Afghanistan  2018  1734.723214              NaN\n",
      "1        Afghanistan  2017  1758.465636              NaN\n",
      "2        Afghanistan  2016  1757.023490              NaN\n",
      "3        Afghanistan  2015  1766.593077              NaN\n",
      "4        Afghanistan  2014  1795.735834              NaN\n",
      "...              ...   ...          ...              ...\n",
      "6724        Zimbabwe  1994  2768.309953              NaN\n",
      "6725        Zimbabwe  1993  2572.870395              NaN\n",
      "6726        Zimbabwe  1992  2591.007534              NaN\n",
      "6727        Zimbabwe  1991  2906.272849              NaN\n",
      "6728        Zimbabwe  1990  2819.549467              NaN\n",
      "\n",
      "[6729 rows x 4 columns]>\n"
     ]
    }
   ],
   "source": [
    "#print(np.info(np_pgd))\n",
    "print(gdp_df.info)"
   ]
  },
  {
   "cell_type": "code",
   "execution_count": 154,
   "metadata": {},
   "outputs": [
    {
     "name": "stdout",
     "output_type": "stream",
     "text": [
      "Country or Area     object\n",
      "Year                 int64\n",
      "Value              float64\n",
      "Value Footnotes    float64\n",
      "dtype: object\n"
     ]
    }
   ],
   "source": [
    "print(gdp_df.dtypes)\n",
    "\n"
   ]
  },
  {
   "cell_type": "code",
   "execution_count": 155,
   "metadata": {},
   "outputs": [
    {
     "name": "stdout",
     "output_type": "stream",
     "text": [
      "Country or Area     object\n",
      "Year                 int64\n",
      "Value              float64\n",
      "Value Footnotes    float64\n",
      "dtype: object\n"
     ]
    }
   ],
   "source": [
    "print(internet_df.dtypes)"
   ]
  },
  {
   "cell_type": "code",
   "execution_count": 156,
   "metadata": {},
   "outputs": [
    {
     "name": "stdout",
     "output_type": "stream",
     "text": [
      "     Country or Area  Year        Value  Value Footnotes\n",
      "6719        Zimbabwe  1999  3054.064189              NaN\n",
      "6720        Zimbabwe  1998  3099.076182              NaN\n",
      "6721        Zimbabwe  1997  3036.422224              NaN\n",
      "6722        Zimbabwe  1996  2985.856605              NaN\n",
      "6723        Zimbabwe  1995  2736.486436              NaN\n",
      "6724        Zimbabwe  1994  2768.309953              NaN\n",
      "6725        Zimbabwe  1993  2572.870395              NaN\n",
      "6726        Zimbabwe  1992  2591.007534              NaN\n",
      "6727        Zimbabwe  1991  2906.272849              NaN\n",
      "6728        Zimbabwe  1990  2819.549467              NaN\n"
     ]
    }
   ],
   "source": [
    "print(gdp_df.tail(10))"
   ]
  },
  {
   "cell_type": "code",
   "execution_count": 157,
   "metadata": {},
   "outputs": [
    {
     "name": "stdout",
     "output_type": "stream",
     "text": [
      "     Country or Area  Year     Value  Value Footnotes\n",
      "4485        Zimbabwe  2002  3.994356              NaN\n",
      "4486        Zimbabwe  2001  0.799846              NaN\n",
      "4487        Zimbabwe  2000  0.401434              NaN\n",
      "4488        Zimbabwe  1999  0.161676              NaN\n",
      "4489        Zimbabwe  1998  0.081648              NaN\n",
      "4490        Zimbabwe  1997  0.033080              NaN\n",
      "4491        Zimbabwe  1996  0.016790              NaN\n",
      "4492        Zimbabwe  1995  0.007684              NaN\n",
      "4493        Zimbabwe  1994  0.001739              NaN\n",
      "4494        Zimbabwe  1990  0.000000              NaN\n"
     ]
    }
   ],
   "source": [
    "print(internet_df.tail(10))"
   ]
  },
  {
   "cell_type": "code",
   "execution_count": 158,
   "metadata": {},
   "outputs": [
    {
     "data": {
      "text/plain": [
       "0      NaN\n",
       "1      NaN\n",
       "2      NaN\n",
       "3      NaN\n",
       "4      NaN\n",
       "        ..\n",
       "6724   NaN\n",
       "6725   NaN\n",
       "6726   NaN\n",
       "6727   NaN\n",
       "6728   NaN\n",
       "Name: Value Footnotes, Length: 6729, dtype: float64"
      ]
     },
     "execution_count": 158,
     "metadata": {},
     "output_type": "execute_result"
    }
   ],
   "source": [
    "gdp_df.pop('Value Footnotes')"
   ]
  },
  {
   "cell_type": "code",
   "execution_count": 159,
   "metadata": {},
   "outputs": [
    {
     "name": "stdout",
     "output_type": "stream",
     "text": [
      "     Country or Area  Year        Value\n",
      "0        Afghanistan  2018  1734.723214\n",
      "1        Afghanistan  2017  1758.465636\n",
      "2        Afghanistan  2016  1757.023490\n",
      "3        Afghanistan  2015  1766.593077\n",
      "4        Afghanistan  2014  1795.735834\n",
      "...              ...   ...          ...\n",
      "6724        Zimbabwe  1994  2768.309953\n",
      "6725        Zimbabwe  1993  2572.870395\n",
      "6726        Zimbabwe  1992  2591.007534\n",
      "6727        Zimbabwe  1991  2906.272849\n",
      "6728        Zimbabwe  1990  2819.549467\n",
      "\n",
      "[6729 rows x 3 columns]\n"
     ]
    }
   ],
   "source": [
    "print(gdp_df)"
   ]
  },
  {
   "cell_type": "code",
   "execution_count": 160,
   "metadata": {},
   "outputs": [
    {
     "data": {
      "text/plain": [
       "0      NaN\n",
       "1      NaN\n",
       "2      NaN\n",
       "3      NaN\n",
       "4      NaN\n",
       "        ..\n",
       "4490   NaN\n",
       "4491   NaN\n",
       "4492   NaN\n",
       "4493   NaN\n",
       "4494   NaN\n",
       "Name: Value Footnotes, Length: 4495, dtype: float64"
      ]
     },
     "execution_count": 160,
     "metadata": {},
     "output_type": "execute_result"
    }
   ],
   "source": [
    "internet_df.pop('Value Footnotes')"
   ]
  },
  {
   "cell_type": "code",
   "execution_count": 161,
   "metadata": {},
   "outputs": [
    {
     "name": "stdout",
     "output_type": "stream",
     "text": [
      "     Country or Area  Year     Value\n",
      "0        Afghanistan  2014  6.390000\n",
      "1        Afghanistan  2013  5.900000\n",
      "2        Afghanistan  2012  5.454545\n",
      "3        Afghanistan  2011  5.000000\n",
      "4        Afghanistan  2010  4.000000\n",
      "...              ...   ...       ...\n",
      "4490        Zimbabwe  1997  0.033080\n",
      "4491        Zimbabwe  1996  0.016790\n",
      "4492        Zimbabwe  1995  0.007684\n",
      "4493        Zimbabwe  1994  0.001739\n",
      "4494        Zimbabwe  1990  0.000000\n",
      "\n",
      "[4495 rows x 3 columns]\n"
     ]
    }
   ],
   "source": [
    "print(internet_df)"
   ]
  },
  {
   "cell_type": "code",
   "execution_count": 162,
   "metadata": {},
   "outputs": [
    {
     "name": "stdout",
     "output_type": "stream",
     "text": [
      "       Country  Year  GDP_Per_Capita\n",
      "0  Afghanistan  2018     1734.723214\n",
      "1  Afghanistan  2017     1758.465636\n",
      "2  Afghanistan  2016     1757.023490\n",
      "3  Afghanistan  2015     1766.593077\n",
      "4  Afghanistan  2014     1795.735834\n",
      "5  Afghanistan  2013     1807.762344\n"
     ]
    }
   ],
   "source": [
    "gdp_df_new=gdp_df.rename(columns={'Country or Area':'Country','Value':'GDP_Per_Capita'})\n",
    "print(gdp_df_new.head(6))"
   ]
  },
  {
   "cell_type": "code",
   "execution_count": 163,
   "metadata": {},
   "outputs": [
    {
     "name": "stdout",
     "output_type": "stream",
     "text": [
      "       Country  Year  GDP_Per_Capita\n",
      "6723  Zimbabwe  1995     2736.486436\n",
      "6724  Zimbabwe  1994     2768.309953\n",
      "6725  Zimbabwe  1993     2572.870395\n",
      "6726  Zimbabwe  1992     2591.007534\n",
      "6727  Zimbabwe  1991     2906.272849\n",
      "6728  Zimbabwe  1990     2819.549467\n"
     ]
    }
   ],
   "source": [
    "print(gdp_df_new.tail(6))"
   ]
  },
  {
   "cell_type": "code",
   "execution_count": 233,
   "metadata": {},
   "outputs": [
    {
     "name": "stdout",
     "output_type": "stream",
     "text": [
      "       Country  Year  Internet_Users_Pct\n",
      "0  Afghanistan  2014            6.390000\n",
      "1  Afghanistan  2013            5.900000\n",
      "2  Afghanistan  2012            5.454545\n",
      "3  Afghanistan  2011            5.000000\n",
      "4  Afghanistan  2010            4.000000\n",
      "5  Afghanistan  2009            3.550000\n"
     ]
    }
   ],
   "source": [
    "internet_df_new=internet_df.rename(columns={'Country or Area':'Country','Value':'Internet_Users_Pct'})\n",
    "print(internet_df_new.head(6))"
   ]
  },
  {
   "cell_type": "code",
   "execution_count": 234,
   "metadata": {},
   "outputs": [
    {
     "name": "stdout",
     "output_type": "stream",
     "text": [
      "       Country  Year  Internet_Users_Pct\n",
      "4489  Zimbabwe  1998            0.081648\n",
      "4490  Zimbabwe  1997            0.033080\n",
      "4491  Zimbabwe  1996            0.016790\n",
      "4492  Zimbabwe  1995            0.007684\n",
      "4493  Zimbabwe  1994            0.001739\n",
      "4494  Zimbabwe  1990            0.000000\n"
     ]
    }
   ],
   "source": [
    "print(internet_df_new.tail(6))"
   ]
  },
  {
   "cell_type": "code",
   "execution_count": 235,
   "metadata": {},
   "outputs": [
    {
     "name": "stdout",
     "output_type": "stream",
     "text": [
      "          Country  Year  GDP_Per_Capita  Internet_Users_Pct\n",
      "0     Afghanistan  2014     1795.735834            6.390000\n",
      "1     Afghanistan  2013     1807.762344            5.900000\n",
      "2     Afghanistan  2012     1772.764974            5.454545\n",
      "3     Afghanistan  2011     1626.764793            5.000000\n",
      "4     Afghanistan  2010     1671.581238            4.000000\n",
      "...           ...   ...             ...                 ...\n",
      "3514     Zimbabwe  1997     3036.422224            0.033080\n",
      "3515     Zimbabwe  1996     2985.856605            0.016790\n",
      "3516     Zimbabwe  1995     2736.486436            0.007684\n",
      "3517     Zimbabwe  1994     2768.309953            0.001739\n",
      "3518     Zimbabwe  1990     2819.549467            0.000000\n",
      "\n",
      "[3519 rows x 4 columns]\n"
     ]
    }
   ],
   "source": [
    "gdp_and_internet_use=pd.merge(gdp_df_new,internet_df_new,on=['Country','Year'],how='inner')\n",
    "print(gdp_and_internet_use)"
   ]
  },
  {
   "cell_type": "markdown",
   "metadata": {},
   "source": [
    "An outer join creates a dataframe with 7705 rows, a left join creates a dataframe with 6729 rows, and a right join createsa dataframe with 4495 rows. All three of these create null values, which the inner join avoids. Since there needs to be values for all four columns in every row in order to answer some of the questions, an inner join is preferable. I will use the GDP only and the Internet Usage only data frames to answer questions that require only that data. "
   ]
  },
  {
   "cell_type": "markdown",
   "metadata": {},
   "source": [
    "gdp_df has 6729 rows (after dropping footnotes) and internet_df has 4495 rows (after dropping footnotes) \n",
    "gdp_and_internet_use has 3519 rows: 3210 fewer than gdp_df and 1285 fewer than internet_df"
   ]
  },
  {
   "cell_type": "code",
   "execution_count": 236,
   "metadata": {},
   "outputs": [
    {
     "name": "stdout",
     "output_type": "stream",
     "text": [
      "          Country  Year  GDP_Per_Capita  Internet_Users_Pct\n",
      "0     Afghanistan  2014     1795.735834            6.390000\n",
      "5     Afghanistan  2009     1502.354073            3.550000\n",
      "10    Afghanistan  2004     1025.208245            0.105809\n",
      "13        Albania  2014    10700.993216           60.100000\n",
      "18        Albania  2009     9525.377979           41.200000\n",
      "...           ...   ...             ...                 ...\n",
      "3480       Zambia  2009     3115.937579            6.310000\n",
      "3485       Zambia  2004     2415.590117            2.013550\n",
      "3497     Zimbabwe  2014     2506.490220           19.890000\n",
      "3502     Zimbabwe  2009     1632.999866           11.360000\n",
      "3507     Zimbabwe  2004     2104.143512            6.564045\n",
      "\n",
      "[488 rows x 4 columns]\n"
     ]
    }
   ],
   "source": [
    "gdp_internet_subset=gdp_and_internet_use[gdp_and_internet_use['Year'].isin(['2004','2009','2014'])]\n",
    "print(gdp_internet_subset)"
   ]
  },
  {
   "cell_type": "code",
   "execution_count": 237,
   "metadata": {},
   "outputs": [
    {
     "name": "stdout",
     "output_type": "stream",
     "text": [
      "          Country  Year  GDP_Per_Capita\n",
      "4     Afghanistan  2014     1795.735834\n",
      "9     Afghanistan  2009     1502.354073\n",
      "14    Afghanistan  2004     1025.208245\n",
      "21        Albania  2014    10700.993216\n",
      "26        Albania  2009     9525.377979\n",
      "...           ...   ...             ...\n",
      "6680       Zambia  2009     3115.937579\n",
      "6685       Zambia  2004     2415.590117\n",
      "6704     Zimbabwe  2014     2506.490220\n",
      "6709     Zimbabwe  2009     1632.999866\n",
      "6714     Zimbabwe  2004     2104.143512\n",
      "\n",
      "[719 rows x 3 columns]\n"
     ]
    }
   ],
   "source": [
    "gdp_df_subset=gdp_df_new[gdp_df_new['Year'].isin(['2004','2009','2014'])]\n",
    "print(gdp_df_subset)"
   ]
  },
  {
   "cell_type": "code",
   "execution_count": 238,
   "metadata": {},
   "outputs": [
    {
     "name": "stdout",
     "output_type": "stream",
     "text": [
      "          Country  Year  Internet_Users_Pct\n",
      "0     Afghanistan  2014            6.390000\n",
      "5     Afghanistan  2009            3.550000\n",
      "10    Afghanistan  2004            0.105809\n",
      "15        Albania  2014           60.100000\n",
      "20        Albania  2009           41.200000\n",
      "...           ...   ...                 ...\n",
      "4456       Zambia  2009            6.310000\n",
      "4461       Zambia  2004            2.013550\n",
      "4473     Zimbabwe  2014           19.890000\n",
      "4478     Zimbabwe  2009           11.360000\n",
      "4483     Zimbabwe  2004            6.564045\n",
      "\n",
      "[604 rows x 3 columns]\n"
     ]
    }
   ],
   "source": [
    "internet_df_subset=internet_df_new[internet_df_new['Year'].isin(['2004','2009','2014'])]\n",
    "print(internet_df_subset)"
   ]
  },
  {
   "cell_type": "code",
   "execution_count": 239,
   "metadata": {},
   "outputs": [
    {
     "name": "stdout",
     "output_type": "stream",
     "text": [
      "                  Country  Year  GDP_Per_Capita  Internet_Users_Pct\n",
      "0             Afghanistan  2014     1795.735834                6.39\n",
      "13                Albania  2014    10700.993216               60.10\n",
      "34                Algeria  2014    13557.769757               18.09\n",
      "56                 Angola  2014     6813.052106               21.26\n",
      "76    Antigua and Barbuda  2014    20440.540555               64.00\n",
      "...                   ...   ...             ...                 ...\n",
      "3411              Vanuatu  2014     2837.122659               18.80\n",
      "3431            Venezuela  2014    17131.386907               57.00\n",
      "3455                Yemen  2014     3828.484887               22.55\n",
      "3475               Zambia  2014     3684.685507               17.34\n",
      "3497             Zimbabwe  2014     2506.490220               19.89\n",
      "\n",
      "[164 rows x 4 columns]\n"
     ]
    }
   ],
   "source": [
    "gdp_int_2014=gdp_internet_subset[gdp_internet_subset['Year'].isin(['2014'])]\n",
    "print(gdp_int_2014)"
   ]
  },
  {
   "cell_type": "code",
   "execution_count": 240,
   "metadata": {},
   "outputs": [
    {
     "name": "stdout",
     "output_type": "stream",
     "text": [
      "                  Country  Year  GDP_Per_Capita  Internet_Users_Pct\n",
      "5             Afghanistan  2009     1502.354073                3.55\n",
      "18                Albania  2009     9525.377979               41.20\n",
      "39                Algeria  2009    12697.690780               11.23\n",
      "61                 Angola  2009     6292.534856                6.00\n",
      "81    Antigua and Barbuda  2009    22568.626530               42.00\n",
      "...                   ...   ...             ...                 ...\n",
      "3416              Vanuatu  2009     2976.972907                7.50\n",
      "3436            Venezuela  2009    17392.390080               32.70\n",
      "3460                Yemen  2009     4359.812628                9.96\n",
      "3480               Zambia  2009     3115.937579                6.31\n",
      "3502             Zimbabwe  2009     1632.999866               11.36\n",
      "\n",
      "[165 rows x 4 columns]\n"
     ]
    }
   ],
   "source": [
    "gdp_int_2009=gdp_internet_subset[gdp_internet_subset['Year'].isin(['2009'])]\n",
    "print(gdp_int_2009)"
   ]
  },
  {
   "cell_type": "code",
   "execution_count": 241,
   "metadata": {},
   "outputs": [
    {
     "name": "stdout",
     "output_type": "stream",
     "text": [
      "                  Country  Year  GDP_Per_Capita  Internet_Users_Pct\n",
      "10            Afghanistan  2004     1025.208245            0.105809\n",
      "23                Albania  2004     7001.054082            2.420388\n",
      "44                Algeria  2004    11845.170512            4.634475\n",
      "66                 Angola  2004     4604.657044            0.464815\n",
      "86    Antigua and Barbuda  2004    21161.123532           24.266544\n",
      "...                   ...   ...             ...                 ...\n",
      "3421              Vanuatu  2004     2541.779079            4.746603\n",
      "3441            Venezuela  2004    13960.541976            8.404470\n",
      "3465                Yemen  2004     4145.345441            0.881223\n",
      "3485               Zambia  2004     2415.590117            2.013550\n",
      "3507             Zimbabwe  2004     2104.143512            6.564045\n",
      "\n",
      "[159 rows x 4 columns]\n"
     ]
    }
   ],
   "source": [
    "gdp_int_2004=gdp_internet_subset[gdp_internet_subset['Year'].isin(['2004'])]\n",
    "print(gdp_int_2004)"
   ]
  },
  {
   "cell_type": "code",
   "execution_count": 242,
   "metadata": {
    "scrolled": true
   },
   "outputs": [
    {
     "name": "stdout",
     "output_type": "stream",
     "text": [
      "                    Country  Year  Internet_Users_Pct\n",
      "0               Afghanistan  2014                6.39\n",
      "15                  Albania  2014               60.10\n",
      "36                  Algeria  2014               18.09\n",
      "59                  Andorra  2014               95.90\n",
      "78                   Angola  2014               21.26\n",
      "...                     ...   ...                 ...\n",
      "4389               Viet Nam  2014               48.31\n",
      "4409  Virgin Islands (U.S.)  2014               50.07\n",
      "4431                  Yemen  2014               22.55\n",
      "4451                 Zambia  2014               17.34\n",
      "4473               Zimbabwe  2014               19.89\n",
      "\n",
      "[202 rows x 3 columns]\n"
     ]
    }
   ],
   "source": [
    "int_2014=internet_df_subset[internet_df_subset['Year'].isin(['2014'])]\n",
    "print(int_2014)"
   ]
  },
  {
   "cell_type": "code",
   "execution_count": 243,
   "metadata": {
    "scrolled": true
   },
   "outputs": [
    {
     "name": "stdout",
     "output_type": "stream",
     "text": [
      "                    Country  Year  Internet_Users_Pct\n",
      "5               Afghanistan  2009             3.55000\n",
      "20                  Albania  2009            41.20000\n",
      "41                  Algeria  2009            11.23000\n",
      "64                  Andorra  2009            78.53000\n",
      "83                   Angola  2009             6.00000\n",
      "...                     ...   ...                 ...\n",
      "4394               Viet Nam  2009            26.55000\n",
      "4414  Virgin Islands (U.S.)  2009            27.39651\n",
      "4436                  Yemen  2009             9.96000\n",
      "4456                 Zambia  2009             6.31000\n",
      "4478               Zimbabwe  2009            11.36000\n",
      "\n",
      "[203 rows x 3 columns]\n"
     ]
    }
   ],
   "source": [
    "int_2009=internet_df_subset[internet_df_subset['Year'].isin(['2009'])]\n",
    "print(int_2009)"
   ]
  },
  {
   "cell_type": "code",
   "execution_count": 244,
   "metadata": {},
   "outputs": [
    {
     "name": "stdout",
     "output_type": "stream",
     "text": [
      "                    Country  Year  Internet_Users_Pct\n",
      "10              Afghanistan  2004            0.105809\n",
      "25                  Albania  2004            2.420388\n",
      "46                  Algeria  2004            4.634475\n",
      "69                  Andorra  2004           26.837954\n",
      "88                   Angola  2004            0.464815\n",
      "...                     ...   ...                 ...\n",
      "4399               Viet Nam  2004            7.642409\n",
      "4419  Virgin Islands (U.S.)  2004           27.377009\n",
      "4441                  Yemen  2004            0.881223\n",
      "4461                 Zambia  2004            2.013550\n",
      "4483               Zimbabwe  2004            6.564045\n",
      "\n",
      "[199 rows x 3 columns]\n"
     ]
    }
   ],
   "source": [
    "int_2004=internet_df_subset[internet_df_subset['Year'].isin(['2004'])]\n",
    "print(int_2004)"
   ]
  },
  {
   "cell_type": "code",
   "execution_count": 245,
   "metadata": {},
   "outputs": [
    {
     "name": "stdout",
     "output_type": "stream",
     "text": [
      "      Country  Year  Internet_Users_Pct\n",
      "1866  Iceland  2014               98.16\n"
     ]
    }
   ],
   "source": [
    "#print(df[df.Points == df.Points.max()])\n",
    "print(int_2014[int_2014.Internet_Users_Pct==int_2014.Internet_Users_Pct.max()])"
   ]
  },
  {
   "cell_type": "code",
   "execution_count": 246,
   "metadata": {},
   "outputs": [
    {
     "name": "stdout",
     "output_type": "stream",
     "text": [
      "      Country  Year  Internet_Users_Pct\n",
      "1871  Iceland  2009                93.0\n"
     ]
    }
   ],
   "source": [
    "print(int_2009[int_2009.Internet_Users_Pct==int_2009.Internet_Users_Pct.max()])"
   ]
  },
  {
   "cell_type": "code",
   "execution_count": 247,
   "metadata": {},
   "outputs": [
    {
     "name": "stdout",
     "output_type": "stream",
     "text": [
      "     Country  Year  Internet_Users_Pct\n",
      "3835  Sweden  2004               83.89\n"
     ]
    }
   ],
   "source": [
    "print(int_2004[int_2004.Internet_Users_Pct==int_2004.Internet_Users_Pct.max()])"
   ]
  },
  {
   "cell_type": "markdown",
   "metadata": {},
   "source": [
    "Iceland had the highest internet usage in 2014 and 2009 with 98.16% and 93% respectively.\n",
    "Sweden had the highest internet usage in 2004 with 83.89%."
   ]
  },
  {
   "cell_type": "code",
   "execution_count": 248,
   "metadata": {},
   "outputs": [
    {
     "name": "stdout",
     "output_type": "stream",
     "text": [
      "                          Country  Year  Internet_Users_Pct\n",
      "1065  Dem. People's Rep. of Korea  2014                 0.0\n"
     ]
    }
   ],
   "source": [
    "print(int_2014[int_2014.Internet_Users_Pct==int_2014.Internet_Users_Pct.min()])"
   ]
  },
  {
   "cell_type": "code",
   "execution_count": 249,
   "metadata": {},
   "outputs": [
    {
     "name": "stdout",
     "output_type": "stream",
     "text": [
      "                          Country  Year  Internet_Users_Pct\n",
      "1069  Dem. People's Rep. of Korea  2009                 0.0\n"
     ]
    }
   ],
   "source": [
    "print(int_2009[int_2009.Internet_Users_Pct==int_2009.Internet_Users_Pct.min()])"
   ]
  },
  {
   "cell_type": "code",
   "execution_count": 250,
   "metadata": {},
   "outputs": [
    {
     "name": "stdout",
     "output_type": "stream",
     "text": [
      "                          Country  Year  Internet_Users_Pct\n",
      "1074  Dem. People's Rep. of Korea  2004                 0.0\n"
     ]
    }
   ],
   "source": [
    "print(int_2004[int_2004.Internet_Users_Pct==int_2004.Internet_Users_Pct.min()])"
   ]
  },
  {
   "cell_type": "markdown",
   "metadata": {},
   "source": [
    "The Democratic People's Rep. of Korea had the lowest internet in 2014, 2009,and 2004 with 0.0% all three years. "
   ]
  },
  {
   "cell_type": "code",
   "execution_count": 252,
   "metadata": {},
   "outputs": [
    {
     "name": "stdout",
     "output_type": "stream",
     "text": [
      "                  Country  Year  GDP_Per_Capita\n",
      "4             Afghanistan  2014     1795.735834\n",
      "21                Albania  2014    10700.993216\n",
      "50                Algeria  2014    13557.769757\n",
      "79                 Angola  2014     6813.052106\n",
      "108   Antigua and Barbuda  2014    20440.540555\n",
      "...                   ...   ...             ...\n",
      "6592   West Bank and Gaza  2014     4445.307470\n",
      "6617                World  2014    14514.392218\n",
      "6646                Yemen  2014     3828.484887\n",
      "6675               Zambia  2014     3684.685507\n",
      "6704             Zimbabwe  2014     2506.490220\n",
      "\n",
      "[240 rows x 3 columns]\n"
     ]
    }
   ],
   "source": [
    "gdp_2014=gdp_df_subset[gdp_df_subset['Year'].isin(['2014'])]\n",
    "print(gdp_2014)"
   ]
  },
  {
   "cell_type": "code",
   "execution_count": 254,
   "metadata": {},
   "outputs": [
    {
     "name": "stdout",
     "output_type": "stream",
     "text": [
      "                  Country  Year  GDP_Per_Capita\n",
      "9             Afghanistan  2009     1502.354073\n",
      "26                Albania  2009     9525.377979\n",
      "55                Algeria  2009    12697.690780\n",
      "84                 Angola  2009     6292.534856\n",
      "113   Antigua and Barbuda  2009    22568.626530\n",
      "...                   ...   ...             ...\n",
      "6597   West Bank and Gaza  2009     3816.165070\n",
      "6622                World  2009    12726.100963\n",
      "6651                Yemen  2009     4359.812628\n",
      "6680               Zambia  2009     3115.937579\n",
      "6709             Zimbabwe  2009     1632.999866\n",
      "\n",
      "[241 rows x 3 columns]\n"
     ]
    }
   ],
   "source": [
    "gdp_2009=gdp_df_subset[gdp_df_subset['Year'].isin(['2009'])]\n",
    "print(gdp_2009)"
   ]
  },
  {
   "cell_type": "code",
   "execution_count": 255,
   "metadata": {},
   "outputs": [
    {
     "name": "stdout",
     "output_type": "stream",
     "text": [
      "                  Country  Year  GDP_Per_Capita\n",
      "14            Afghanistan  2004     1025.208245\n",
      "31                Albania  2004     7001.054082\n",
      "60                Algeria  2004    11845.170512\n",
      "89                 Angola  2004     4604.657044\n",
      "118   Antigua and Barbuda  2004    21161.123532\n",
      "...                   ...   ...             ...\n",
      "6602   West Bank and Gaza  2004     3324.834407\n",
      "6627                World  2004    11351.109436\n",
      "6656                Yemen  2004     4145.345441\n",
      "6685               Zambia  2004     2415.590117\n",
      "6714             Zimbabwe  2004     2104.143512\n",
      "\n",
      "[238 rows x 3 columns]\n"
     ]
    }
   ],
   "source": [
    "gdp_2004=gdp_df_subset[gdp_df_subset['Year'].isin(['2004'])]\n",
    "print(gdp_2004)"
   ]
  },
  {
   "cell_type": "code",
   "execution_count": 253,
   "metadata": {
    "scrolled": true
   },
   "outputs": [
    {
     "name": "stdout",
     "output_type": "stream",
     "text": [
      "               Country  Year  GDP_Per_Capita\n",
      "3639  Macao SAR, China  2014   130439.106674\n"
     ]
    }
   ],
   "source": [
    "print(gdp_2014[gdp_2014.GDP_Per_Capita==gdp_2014.GDP_Per_Capita.max()])"
   ]
  },
  {
   "cell_type": "code",
   "execution_count": 256,
   "metadata": {},
   "outputs": [
    {
     "name": "stdout",
     "output_type": "stream",
     "text": [
      "     Country  Year  GDP_Per_Capita\n",
      "5008   Qatar  2009   112525.718267\n"
     ]
    }
   ],
   "source": [
    "print(gdp_2009[gdp_2009.GDP_Per_Capita==gdp_2009.GDP_Per_Capita.max()])"
   ]
  },
  {
   "cell_type": "code",
   "execution_count": 257,
   "metadata": {},
   "outputs": [
    {
     "name": "stdout",
     "output_type": "stream",
     "text": [
      "     Country  Year  GDP_Per_Capita\n",
      "5013   Qatar  2004   117271.427067\n"
     ]
    }
   ],
   "source": [
    "print(gdp_2004[gdp_2004.GDP_Per_Capita==gdp_2004.GDP_Per_Capita.max()])"
   ]
  },
  {
   "cell_type": "markdown",
   "metadata": {},
   "source": [
    "Highest GDP per capita in 2014 was Macoa SAR, China with 130439.106674. Qatar topped 2009 and 2004 with 112525.718267\n",
    "and 117271.427067 respectively."
   ]
  },
  {
   "cell_type": "code",
   "execution_count": 261,
   "metadata": {},
   "outputs": [
    {
     "name": "stdout",
     "output_type": "stream",
     "text": [
      "                       Country  Year  GDP_Per_Capita\n",
      "1014  Central African Republic  2014      672.681648\n"
     ]
    }
   ],
   "source": [
    "print(gdp_2014[gdp_2014.GDP_Per_Capita==gdp_2014.GDP_Per_Capita.min()])"
   ]
  },
  {
   "cell_type": "code",
   "execution_count": 259,
   "metadata": {},
   "outputs": [
    {
     "name": "stdout",
     "output_type": "stream",
     "text": [
      "              Country  Year  GDP_Per_Capita\n",
      "1380  Dem. Rep. Congo  2009      636.875743\n"
     ]
    }
   ],
   "source": [
    "print(gdp_2009[gdp_2009.GDP_Per_Capita==gdp_2009.GDP_Per_Capita.min()])"
   ]
  },
  {
   "cell_type": "code",
   "execution_count": 260,
   "metadata": {},
   "outputs": [
    {
     "name": "stdout",
     "output_type": "stream",
     "text": [
      "              Country  Year  GDP_Per_Capita\n",
      "1385  Dem. Rep. Congo  2004      577.483297\n"
     ]
    }
   ],
   "source": [
    "print(gdp_2004[gdp_2004.GDP_Per_Capita==gdp_2004.GDP_Per_Capita.min()])"
   ]
  },
  {
   "cell_type": "markdown",
   "metadata": {},
   "source": [
    "The Central African Republic had the lowest GDP per capita in 2014 with 672.681648. The Democratic Republic of the Congo had the lowest in 2009 and 2004 with 636.875743 and 577.483297 respectively."
   ]
  },
  {
   "cell_type": "code",
   "execution_count": 281,
   "metadata": {},
   "outputs": [
    {
     "data": {
      "text/plain": [
       "<function matplotlib.pyplot.show(*args, **kw)>"
      ]
     },
     "execution_count": 281,
     "metadata": {},
     "output_type": "execute_result"
    },
    {
     "data": {
      "image/png": "[encoded data removed]",
      "text/plain": [
       "<Figure size 432x288 with 1 Axes>"
      ]
     },
     "metadata": {
      "needs_background": "light"
     },
     "output_type": "display_data"
    }
   ],
   "source": [
    "plt.scatter(gdp_int_2004.Internet_Users_Pct,gdp_int_2004.GDP_Per_Capita)\n",
    "plt.xlabel('Internet Useage %')\n",
    "plt.ylabel(\"GDP per Capita\")\n",
    "plt.title(\"2004\")\n",
    "plt.text(0,100000,\"each dot is a Country\")\n",
    "plt.show"
   ]
  },
  {
   "cell_type": "code",
   "execution_count": 279,
   "metadata": {},
   "outputs": [
    {
     "data": {
      "text/plain": [
       "<function matplotlib.pyplot.show(*args, **kw)>"
      ]
     },
     "execution_count": 279,
     "metadata": {},
     "output_type": "execute_result"
    },
    {
     "data": {
      "image/png": "[encoded data removed]",
      "text/plain": [
       "<Figure size 432x288 with 1 Axes>"
      ]
     },
     "metadata": {
      "needs_background": "light"
     },
     "output_type": "display_data"
    }
   ],
   "source": [
    "plt.scatter(gdp_int_2009.Internet_Users_Pct,gdp_int_2009.GDP_Per_Capita)\n",
    "plt.xlabel('Internet Useage %')\n",
    "plt.ylabel(\"GDP per Capita\")\n",
    "plt.title(\"2009\")\n",
    "plt.text(0,100000,\"each dot is a Country\")\n",
    "plt.show"
   ]
  },
  {
   "cell_type": "code",
   "execution_count": 280,
   "metadata": {},
   "outputs": [
    {
     "data": {
      "text/plain": [
       "<function matplotlib.pyplot.show(*args, **kw)>"
      ]
     },
     "execution_count": 280,
     "metadata": {},
     "output_type": "execute_result"
    },
    {
     "data": {
      "image/png": "[encoded data removed]",
      "text/plain": [
       "<Figure size 432x288 with 1 Axes>"
      ]
     },
     "metadata": {
      "needs_background": "light"
     },
     "output_type": "display_data"
    }
   ],
   "source": [
    "plt.scatter(gdp_int_2014.Internet_Users_Pct,gdp_int_2014.GDP_Per_Capita)\n",
    "plt.xlabel('Internet Useage %')\n",
    "plt.ylabel(\"GDP per Capita\")\n",
    "plt.title(\"2014\")\n",
    "plt.text(0,100000,\"each dot is a Country\")\n",
    "plt.show"
   ]
  },
  {
   "cell_type": "markdown",
   "metadata": {},
   "source": [
    "While GDP per capita per country across 2004, 2009 and 2014 appears to be slowly rising internet useage is increasing, particularly amoung countries with higher GDPs per capita."
   ]
  },
  {
   "cell_type": "markdown",
   "metadata": {},
   "source": [
    "Look at the distribution of gdp per capita values for 2014. Is it unimodal?"
   ]
  },
  {
   "cell_type": "code",
   "execution_count": 291,
   "metadata": {
    "scrolled": false
   },
   "outputs": [
    {
     "data": {
      "text/plain": [
       "<matplotlib.axes._subplots.AxesSubplot at 0x1212eb210>"
      ]
     },
     "execution_count": 291,
     "metadata": {},
     "output_type": "execute_result"
    },
    {
     "data": {
      "image/png": "[encoded data removed]",
      "text/plain": [
       "<Figure size 432x288 with 1 Axes>"
      ]
     },
     "metadata": {
      "needs_background": "light"
     },
     "output_type": "display_data"
    }
   ],
   "source": [
    "gdp_2014.GDP_Per_Capita.hist(bins=1000)"
   ]
  },
  {
   "cell_type": "code",
   "execution_count": 295,
   "metadata": {},
   "outputs": [
    {
     "data": {
      "text/plain": [
       "<matplotlib.axes._subplots.AxesSubplot at 0x1a2ce135d0>"
      ]
     },
     "execution_count": 295,
     "metadata": {},
     "output_type": "execute_result"
    },
    {
     "data": {
      "image/png": "[encoded data removed]",
      "text/plain": [
       "<Figure size 432x288 with 1 Axes>"
      ]
     },
     "metadata": {
      "needs_background": "light"
     },
     "output_type": "display_data"
    }
   ],
   "source": [
    "sns.distplot(gdp_2014.GDP_Per_Capita,bins=100)"
   ]
  },
  {
   "cell_type": "markdown",
   "metadata": {},
   "source": [
    "2014 GDP per capita is unimodal"
   ]
  },
  {
   "cell_type": "markdown",
   "metadata": {},
   "source": [
    "Look at the distribution of Internet Use for 2014. Is it unimodal?"
   ]
  },
  {
   "cell_type": "code",
   "execution_count": 299,
   "metadata": {},
   "outputs": [
    {
     "data": {
      "text/plain": [
       "<matplotlib.axes._subplots.AxesSubplot at 0x1a2d26b450>"
      ]
     },
     "execution_count": 299,
     "metadata": {},
     "output_type": "execute_result"
    },
    {
     "data": {
      "image/png": "[encoded data removed]",
      "text/plain": [
       "<Figure size 432x288 with 1 Axes>"
      ]
     },
     "metadata": {
      "needs_background": "light"
     },
     "output_type": "display_data"
    }
   ],
   "source": [
    "int_2014.Internet_Users_Pct.hist(bins=100)"
   ]
  },
  {
   "cell_type": "code",
   "execution_count": 298,
   "metadata": {},
   "outputs": [
    {
     "data": {
      "text/plain": [
       "<matplotlib.axes._subplots.AxesSubplot at 0x1a2d0978d0>"
      ]
     },
     "execution_count": 298,
     "metadata": {},
     "output_type": "execute_result"
    },
    {
     "data": {
      "image/png": "[encoded data removed]",
      "text/plain": [
       "<Figure size 432x288 with 1 Axes>"
      ]
     },
     "metadata": {
      "needs_background": "light"
     },
     "output_type": "display_data"
    }
   ],
   "source": [
    "sns.distplot(int_2014.Internet_Users_Pct,bins=100)"
   ]
  },
  {
   "cell_type": "markdown",
   "metadata": {},
   "source": [
    "2014 Internet use is not unimodal"
   ]
  },
  {
   "cell_type": "markdown",
   "metadata": {},
   "source": [
    "What are the top 5 countries in terms of internet use in 2014?"
   ]
  },
  {
   "cell_type": "code",
   "execution_count": 308,
   "metadata": {},
   "outputs": [
    {
     "data": {
      "text/html": [
       "<div>\n",
       "<style scoped>\n",
       "    .dataframe tbody tr th:only-of-type {\n",
       "        vertical-align: middle;\n",
       "    }\n",
       "\n",
       "    .dataframe tbody tr th {\n",
       "        vertical-align: top;\n",
       "    }\n",
       "\n",
       "    .dataframe thead th {\n",
       "        text-align: right;\n",
       "    }\n",
       "</style>\n",
       "<table border=\"1\" class=\"dataframe\">\n",
       "  <thead>\n",
       "    <tr style=\"text-align: right;\">\n",
       "      <th></th>\n",
       "      <th>Country</th>\n",
       "      <th>Year</th>\n",
       "      <th>Internet_Users_Pct</th>\n",
       "    </tr>\n",
       "  </thead>\n",
       "  <tbody>\n",
       "    <tr>\n",
       "      <th>1866</th>\n",
       "      <td>Iceland</td>\n",
       "      <td>2014</td>\n",
       "      <td>98.16</td>\n",
       "    </tr>\n",
       "    <tr>\n",
       "      <th>415</th>\n",
       "      <td>Bermuda</td>\n",
       "      <td>2014</td>\n",
       "      <td>96.80</td>\n",
       "    </tr>\n",
       "    <tr>\n",
       "      <th>3016</th>\n",
       "      <td>Norway</td>\n",
       "      <td>2014</td>\n",
       "      <td>96.30</td>\n",
       "    </tr>\n",
       "    <tr>\n",
       "      <th>1083</th>\n",
       "      <td>Denmark</td>\n",
       "      <td>2014</td>\n",
       "      <td>95.99</td>\n",
       "    </tr>\n",
       "    <tr>\n",
       "      <th>59</th>\n",
       "      <td>Andorra</td>\n",
       "      <td>2014</td>\n",
       "      <td>95.90</td>\n",
       "    </tr>\n",
       "  </tbody>\n",
       "</table>\n",
       "</div>"
      ],
      "text/plain": [
       "      Country  Year  Internet_Users_Pct\n",
       "1866  Iceland  2014               98.16\n",
       "415   Bermuda  2014               96.80\n",
       "3016   Norway  2014               96.30\n",
       "1083  Denmark  2014               95.99\n",
       "59    Andorra  2014               95.90"
      ]
     },
     "execution_count": 308,
     "metadata": {},
     "output_type": "execute_result"
    }
   ],
   "source": [
    "int_2014.nlargest(5,'Internet_Users_Pct')"
   ]
  },
  {
   "cell_type": "markdown",
   "metadata": {},
   "source": [
    "Create a data frame called top_5_internet from the combined data frame that has all three years for these 5 countries. You should have 15 rows. Check that this is true."
   ]
  },
  {
   "cell_type": "markdown",
   "metadata": {},
   "source": [
    "Creating outer join to include nulls in top 5 countries"
   ]
  },
  {
   "cell_type": "code",
   "execution_count": 330,
   "metadata": {},
   "outputs": [
    {
     "name": "stdout",
     "output_type": "stream",
     "text": [
      "          Country  Year  GDP_Per_Capita  Internet_Users_Pct\n",
      "0     Afghanistan  2014     1795.735834            6.390000\n",
      "1     Afghanistan  2013     1807.762344            5.900000\n",
      "2     Afghanistan  2012     1772.764974            5.454545\n",
      "3     Afghanistan  2011     1626.764793            5.000000\n",
      "4     Afghanistan  2010     1671.581238            4.000000\n",
      "...           ...   ...             ...                 ...\n",
      "3514     Zimbabwe  1997     3036.422224            0.033080\n",
      "3515     Zimbabwe  1996     2985.856605            0.016790\n",
      "3516     Zimbabwe  1995     2736.486436            0.007684\n",
      "3517     Zimbabwe  1994     2768.309953            0.001739\n",
      "3518     Zimbabwe  1990     2819.549467            0.000000\n",
      "\n",
      "[3519 rows x 4 columns]\n"
     ]
    }
   ],
   "source": [
    "gdp_internet_outer=pd.merge(gdp_df_new,internet_df_new,on=['Country','Year'],how='outer')\n",
    "print(gdp_and_internet_use)"
   ]
  },
  {
   "cell_type": "code",
   "execution_count": 334,
   "metadata": {},
   "outputs": [
    {
     "name": "stdout",
     "output_type": "stream",
     "text": [
      "                    Country  Year  GDP_Per_Capita  Internet_Users_Pct\n",
      "4               Afghanistan  2014     1795.735834            6.390000\n",
      "9               Afghanistan  2009     1502.354073            3.550000\n",
      "14              Afghanistan  2004     1025.208245            0.105809\n",
      "21                  Albania  2014    10700.993216           60.100000\n",
      "26                  Albania  2009     9525.377979           41.200000\n",
      "...                     ...   ...             ...                 ...\n",
      "7668               Viet Nam  2009             NaN           26.550000\n",
      "7673               Viet Nam  2004             NaN            7.642409\n",
      "7683  Virgin Islands (U.S.)  2014             NaN           50.070000\n",
      "7688  Virgin Islands (U.S.)  2009             NaN           27.396510\n",
      "7693  Virgin Islands (U.S.)  2004             NaN           27.377009\n",
      "\n",
      "[835 rows x 4 columns]\n"
     ]
    }
   ],
   "source": [
    "gdp_internet_outer_new=gdp_internet_outer[gdp_internet_outer['Year'].isin ([\"2004\",'2009','2014'])]\n",
    "print(gdp_internet_outer_new)"
   ]
  },
  {
   "cell_type": "code",
   "execution_count": 335,
   "metadata": {
    "scrolled": false
   },
   "outputs": [
    {
     "name": "stdout",
     "output_type": "stream",
     "text": [
      "      Country  Year  GDP_Per_Capita  Internet_Users_Pct\n",
      "542   Bermuda  2009    57151.919132           83.250000\n",
      "547   Bermuda  2004    55452.638880           60.990867\n",
      "1404  Denmark  2014    45057.083449           95.990000\n",
      "1409  Denmark  2009    43382.615688           86.840000\n",
      "1414  Denmark  2004    43670.446201           80.930000\n",
      "2581  Iceland  2014    42774.888849           98.160000\n",
      "2586  Iceland  2009    41505.084834           93.000000\n",
      "2591  Iceland  2004    38893.378798           83.880000\n",
      "4530   Norway  2014    63328.259526           96.300000\n",
      "4535   Norway  2009    62617.153609           92.080000\n",
      "4540   Norway  2004    61612.275634           77.690000\n",
      "6732  Andorra  2014             NaN           95.900000\n",
      "6737  Andorra  2009             NaN           78.530000\n",
      "6742  Andorra  2004             NaN           26.837954\n",
      "6772  Bermuda  2014             NaN           96.800000\n"
     ]
    },
    {
     "name": "stderr",
     "output_type": "stream",
     "text": [
      "/opt/anaconda3/lib/python3.7/site-packages/ipykernel_launcher.py:1: UserWarning: Boolean Series key will be reindexed to match DataFrame index.\n",
      "  \"\"\"Entry point for launching an IPython kernel.\n"
     ]
    }
   ],
   "source": [
    "top_5_internet=gdp_internet_outer_new[gdp_internet_outer['Country'].isin(['Iceland','Bermuda','Norway','Denmark','Andorra'])]\n",
    "print(top_5_internet)"
   ]
  },
  {
   "cell_type": "markdown",
   "metadata": {},
   "source": [
    "15 rows"
   ]
  },
  {
   "cell_type": "markdown",
   "metadata": {},
   "source": [
    "Create a seaborn FacetGrid to show the internet usage trend over time for these 5 countries (those with the highest reported internet use in 2014). Which country had the greatest growth between 2004 and 2014? Is there a plotting issue with Bermuda? Can you fix it?"
   ]
  },
  {
   "cell_type": "code",
   "execution_count": 367,
   "metadata": {},
   "outputs": [
    {
     "data": {
      "image/png": "[encoded data removed]",
      "text/plain": [
       "<Figure size 2888x1440 with 5 Axes>"
      ]
     },
     "metadata": {
      "needs_background": "light"
     },
     "output_type": "display_data"
    }
   ],
   "source": [
    "#g = sns.FacetGrid(tips, col=\"time\")\n",
    "#g.map(plt.hist, \"tip\");\n",
    "g=sns.FacetGrid(top_5_internet,col='Country',col_wrap=4,height=10)\n",
    "g.map(plt.plot,\"Year\",'Internet_Users_Pct').add_legend();"
   ]
  },
  {
   "cell_type": "code",
   "execution_count": null,
   "metadata": {},
   "outputs": [],
   "source": [
    "#g = sns.FacetGrid(tips, col=\"sex\", hue=\"smoker\")\n",
    "#g.map(plt.scatter, \"total_bill\", \"tip\", alpha=.7)\n",
    "#g.add_legend();"
   ]
  }
 ],
 "metadata": {
  "kernelspec": {
   "display_name": "Python 3",
   "language": "python",
   "name": "python3"
  },
  "language_info": {
   "codemirror_mode": {
    "name": "ipython",
    "version": 3
   },
   "file_extension": ".py",
   "mimetype": "text/x-python",
   "name": "python",
   "nbconvert_exporter": "python",
   "pygments_lexer": "ipython3",
   "version": "3.7.6"
  }
 },
 "nbformat": 4,
 "nbformat_minor": 4
}
