{
 "cells": [
  {
   "cell_type": "code",
   "execution_count": 17,
   "metadata": {},
   "outputs": [],
   "source": [
    "import pandas as pd \n",
    "import numpy as np  \n",
    "import matplotlib.pyplot as plt  \n",
    "import seaborn as sns"
   ]
  },
  {
   "cell_type": "code",
   "execution_count": 35,
   "metadata": {},
   "outputs": [],
   "source": [
    "%matplotlib inline"
   ]
  },
  {
   "cell_type": "code",
   "execution_count": 36,
   "metadata": {},
   "outputs": [],
   "source": [
    "gdp_df=pd.read_csv('../data/gdp_percapita.csv')"
   ]
  },
  {
   "cell_type": "code",
   "execution_count": 37,
   "metadata": {},
   "outputs": [
    {
     "name": "stdout",
     "output_type": "stream",
     "text": [
      "  Country or Area  Year        Value  Value Footnotes  Footnote Number  \\\n",
      "0     Afghanistan  2018  1734.723214              NaN              NaN   \n",
      "1     Afghanistan  2017  1758.465636              NaN              NaN   \n",
      "2     Afghanistan  2016  1757.023490              NaN              NaN   \n",
      "3     Afghanistan  2015  1766.593077              NaN              NaN   \n",
      "4     Afghanistan  2014  1795.735834              NaN              NaN   \n",
      "5     Afghanistan  2013  1807.762344              NaN              NaN   \n",
      "\n",
      "   Footnote String  \n",
      "0              NaN  \n",
      "1              NaN  \n",
      "2              NaN  \n",
      "3              NaN  \n",
      "4              NaN  \n",
      "5              NaN  \n"
     ]
    }
   ],
   "source": [
    "print(gdp_df.head(6))"
   ]
  },
  {
   "cell_type": "code",
   "execution_count": 33,
   "metadata": {},
   "outputs": [],
   "source": [
    "internet_df=pd.read_csv('../data/internet_use.csv')"
   ]
  },
  {
   "cell_type": "code",
   "execution_count": 34,
   "metadata": {},
   "outputs": [
    {
     "name": "stdout",
     "output_type": "stream",
     "text": [
      "  Country or Area  Year             Value Value Footnotes  Footnote Number  \\\n",
      "0     Afghanistan  2014              6.39             NaN              NaN   \n",
      "1     Afghanistan  2013               5.9             NaN              NaN   \n",
      "2     Afghanistan  2012  5.45454545454545             NaN              NaN   \n",
      "3     Afghanistan  2011                 5             NaN              NaN   \n",
      "4     Afghanistan  2010                 4             NaN              NaN   \n",
      "5     Afghanistan  2009              3.55             NaN              NaN   \n",
      "\n",
      "  Footnote String  \n",
      "0             NaN  \n",
      "1             NaN  \n",
      "2             NaN  \n",
      "3             NaN  \n",
      "4             NaN  \n",
      "5             NaN  \n"
     ]
    }
   ],
   "source": [
    "print(internet_df.head(6))"
   ]
  },
  {
   "cell_type": "code",
   "execution_count": 40,
   "metadata": {},
   "outputs": [
    {
     "name": "stdout",
     "output_type": "stream",
     "text": [
      "(6731, 6)\n"
     ]
    }
   ],
   "source": [
    "np_gdp=np.array(gdp_df)\n",
    "print(np_gdp.shape)"
   ]
  },
  {
   "cell_type": "code",
   "execution_count": 42,
   "metadata": {},
   "outputs": [
    {
     "name": "stdout",
     "output_type": "stream",
     "text": [
      "(4676, 6)\n"
     ]
    }
   ],
   "source": [
    "np_internet=np.array(internet_df)\n",
    "print(np_internet.shape)"
   ]
  },
  {
   "cell_type": "code",
   "execution_count": 43,
   "metadata": {},
   "outputs": [
    {
     "name": "stdout",
     "output_type": "stream",
     "text": [
      "<class 'numpy.ndarray'>\n"
     ]
    }
   ],
   "source": [
    "print(type(np_gdp))"
   ]
  },
  {
   "cell_type": "code",
   "execution_count": 52,
   "metadata": {},
   "outputs": [
    {
     "name": "stdout",
     "output_type": "stream",
     "text": [
      "class:  ndarray\n",
      "shape:  (6731, 6)\n",
      "strides:  (8, 53848)\n",
      "itemsize:  8\n",
      "aligned:  True\n",
      "contiguous:  False\n",
      "fortran:  True\n",
      "data pointer: 0x1a251ed000\n",
      "byteorder:  little\n",
      "byteswap:  False\n",
      "type: object\n",
      "None\n"
     ]
    }
   ],
   "source": [
    "print(np.info(np_gdp))\n"
   ]
  },
  {
   "cell_type": "code",
   "execution_count": 71,
   "metadata": {},
   "outputs": [
    {
     "name": "stdout",
     "output_type": "stream",
     "text": [
      "Country or Area     object\n",
      "Year                object\n",
      "Value              float64\n",
      "Value Footnotes    float64\n",
      "Footnote Number    float64\n",
      "Footnote String    float64\n",
      "dtype: object\n"
     ]
    }
   ],
   "source": [
    "print(gdp_df.dtypes)\n",
    "\n"
   ]
  },
  {
   "cell_type": "code",
   "execution_count": 72,
   "metadata": {},
   "outputs": [
    {
     "name": "stdout",
     "output_type": "stream",
     "text": [
      "Country or Area     object\n",
      "Year                object\n",
      "Value               object\n",
      "Value Footnotes     object\n",
      "Footnote Number    float64\n",
      "Footnote String     object\n",
      "dtype: object\n"
     ]
    }
   ],
   "source": [
    "print(internet_df.dtypes)"
   ]
  },
  {
   "cell_type": "code",
   "execution_count": 73,
   "metadata": {},
   "outputs": [
    {
     "name": "stdout",
     "output_type": "stream",
     "text": [
      "     Country or Area                                      Year        Value  \\\n",
      "6721        Zimbabwe                                      1997  3036.422224   \n",
      "6722        Zimbabwe                                      1996  2985.856605   \n",
      "6723        Zimbabwe                                      1995  2736.486436   \n",
      "6724        Zimbabwe                                      1994  2768.309953   \n",
      "6725        Zimbabwe                                      1993  2572.870395   \n",
      "6726        Zimbabwe                                      1992  2591.007534   \n",
      "6727        Zimbabwe                                      1991  2906.272849   \n",
      "6728        Zimbabwe                                      1990  2819.549467   \n",
      "6729   footnoteSeqID                                  Footnote          NaN   \n",
      "6730               2  Excludes South Sudan after July 9, 2011.          NaN   \n",
      "\n",
      "      Value Footnotes  Footnote Number  Footnote String  \n",
      "6721              NaN              NaN              NaN  \n",
      "6722              NaN              NaN              NaN  \n",
      "6723              NaN              NaN              NaN  \n",
      "6724              NaN              NaN              NaN  \n",
      "6725              NaN              NaN              NaN  \n",
      "6726              NaN              NaN              NaN  \n",
      "6727              NaN              NaN              NaN  \n",
      "6728              NaN              NaN              NaN  \n",
      "6729              NaN              NaN              NaN  \n",
      "6730              NaN              NaN              NaN  \n"
     ]
    }
   ],
   "source": [
    "print(gdp_df.tail(10))"
   ]
  },
  {
   "cell_type": "code",
   "execution_count": 75,
   "metadata": {},
   "outputs": [
    {
     "name": "stdout",
     "output_type": "stream",
     "text": [
      "     Country or Area                                               Year  \\\n",
      "4666             171                        Internet Dial-up customers.   \n",
      "4667             172  Population age 16+ using the Internet in the l...   \n",
      "4668             173  Population age 16+ using internet in the last ...   \n",
      "4669             174  U.S. Census Bureau, Table 2. Reported Internet...   \n",
      "4670             175             Includes individuals 3 years and older   \n",
      "4671             176                                   NTIA/CPS survey.   \n",
      "4672             177                     Pew Internet Project, Internet   \n",
      "4673             178  Estimated based on Survey's results. Populatio...   \n",
      "4674             179                     Preliminary. Country estimate.   \n",
      "4675             180  The methodology used to estimated the figure f...   \n",
      "\n",
      "                                     Value Value Footnotes  Footnote Number  \\\n",
      "4666                                   NaN             NaN              NaN   \n",
      "4667                                   NaN             NaN              NaN   \n",
      "4668                                   NaN             NaN              NaN   \n",
      "4669                                   NaN             NaN              NaN   \n",
      "4670                                   NaN             NaN              NaN   \n",
      "4671                                   NaN             NaN              NaN   \n",
      "4672   Broadband and cell phone statistics     ” January 5           2010.0   \n",
      "4673                                   NaN             NaN              NaN   \n",
      "4674                                   NaN             NaN              NaN   \n",
      "4675                                   NaN             NaN              NaN   \n",
      "\n",
      "                                        Footnote String  \n",
      "4666                                                NaN  \n",
      "4667                                                NaN  \n",
      "4668                                                NaN  \n",
      "4669                                                NaN  \n",
      "4670                                                NaN  \n",
      "4671                                                NaN  \n",
      "4672   http://www.pewinternet.org/~/media//Files/Rep...  \n",
      "4673                                                NaN  \n",
      "4674                                                NaN  \n",
      "4675                                                NaN  \n"
     ]
    }
   ],
   "source": [
    "print(internet_df.tail(10))"
   ]
  },
  {
   "cell_type": "code",
   "execution_count": 76,
   "metadata": {},
   "outputs": [
    {
     "name": "stdout",
     "output_type": "stream",
     "text": [
      "0      NaN\n",
      "1      NaN\n",
      "2      NaN\n",
      "3      NaN\n",
      "4      NaN\n",
      "        ..\n",
      "6726   NaN\n",
      "6727   NaN\n",
      "6728   NaN\n",
      "6729   NaN\n",
      "6730   NaN\n",
      "Name: Value Footnotes, Length: 6731, dtype: float64\n"
     ]
    }
   ],
   "source": [
    "print(gdp_df.pop('Value Footnotes'))"
   ]
  },
  {
   "cell_type": "code",
   "execution_count": 77,
   "metadata": {},
   "outputs": [
    {
     "name": "stdout",
     "output_type": "stream",
     "text": [
      "     Country or Area                                      Year        Value  \\\n",
      "0        Afghanistan                                      2018  1734.723214   \n",
      "1        Afghanistan                                      2017  1758.465636   \n",
      "2        Afghanistan                                      2016  1757.023490   \n",
      "3        Afghanistan                                      2015  1766.593077   \n",
      "4        Afghanistan                                      2014  1795.735834   \n",
      "...              ...                                       ...          ...   \n",
      "6726        Zimbabwe                                      1992  2591.007534   \n",
      "6727        Zimbabwe                                      1991  2906.272849   \n",
      "6728        Zimbabwe                                      1990  2819.549467   \n",
      "6729   footnoteSeqID                                  Footnote          NaN   \n",
      "6730               2  Excludes South Sudan after July 9, 2011.          NaN   \n",
      "\n",
      "      Footnote Number  Footnote String  \n",
      "0                 NaN              NaN  \n",
      "1                 NaN              NaN  \n",
      "2                 NaN              NaN  \n",
      "3                 NaN              NaN  \n",
      "4                 NaN              NaN  \n",
      "...               ...              ...  \n",
      "6726              NaN              NaN  \n",
      "6727              NaN              NaN  \n",
      "6728              NaN              NaN  \n",
      "6729              NaN              NaN  \n",
      "6730              NaN              NaN  \n",
      "\n",
      "[6731 rows x 5 columns]\n"
     ]
    }
   ],
   "source": [
    "print(gdp_df)"
   ]
  },
  {
   "cell_type": "code",
   "execution_count": 79,
   "metadata": {},
   "outputs": [
    {
     "data": {
      "text/plain": [
       "0      NaN\n",
       "1      NaN\n",
       "2      NaN\n",
       "3      NaN\n",
       "4      NaN\n",
       "        ..\n",
       "6726   NaN\n",
       "6727   NaN\n",
       "6728   NaN\n",
       "6729   NaN\n",
       "6730   NaN\n",
       "Name: Footnote String, Length: 6731, dtype: float64"
      ]
     },
     "execution_count": 79,
     "metadata": {},
     "output_type": "execute_result"
    }
   ],
   "source": [
    "gdp_df.pop('Footnote Number')\n",
    "gdp_df.pop('Footnote String')"
   ]
  },
  {
   "cell_type": "code",
   "execution_count": 80,
   "metadata": {},
   "outputs": [
    {
     "name": "stdout",
     "output_type": "stream",
     "text": [
      "     Country or Area                                      Year        Value\n",
      "0        Afghanistan                                      2018  1734.723214\n",
      "1        Afghanistan                                      2017  1758.465636\n",
      "2        Afghanistan                                      2016  1757.023490\n",
      "3        Afghanistan                                      2015  1766.593077\n",
      "4        Afghanistan                                      2014  1795.735834\n",
      "...              ...                                       ...          ...\n",
      "6726        Zimbabwe                                      1992  2591.007534\n",
      "6727        Zimbabwe                                      1991  2906.272849\n",
      "6728        Zimbabwe                                      1990  2819.549467\n",
      "6729   footnoteSeqID                                  Footnote          NaN\n",
      "6730               2  Excludes South Sudan after July 9, 2011.          NaN\n",
      "\n",
      "[6731 rows x 3 columns]\n"
     ]
    }
   ],
   "source": [
    "print(gdp_df\n",
    "    )"
   ]
  },
  {
   "cell_type": "code",
   "execution_count": 81,
   "metadata": {},
   "outputs": [
    {
     "data": {
      "text/plain": [
       "0                                                     NaN\n",
       "1                                                     NaN\n",
       "2                                                     NaN\n",
       "3                                                     NaN\n",
       "4                                                     NaN\n",
       "                              ...                        \n",
       "4671                                                  NaN\n",
       "4672     http://www.pewinternet.org/~/media//Files/Rep...\n",
       "4673                                                  NaN\n",
       "4674                                                  NaN\n",
       "4675                                                  NaN\n",
       "Name: Footnote String, Length: 4676, dtype: object"
      ]
     },
     "execution_count": 81,
     "metadata": {},
     "output_type": "execute_result"
    }
   ],
   "source": [
    "internet_df.pop('Value Footnotes')\n",
    "internet_df.pop('Footnote Number')\n",
    "internet_df.pop('Footnote String')"
   ]
  },
  {
   "cell_type": "code",
   "execution_count": 82,
   "metadata": {},
   "outputs": [
    {
     "name": "stdout",
     "output_type": "stream",
     "text": [
      "     Country or Area                                               Year  \\\n",
      "0        Afghanistan                                               2014   \n",
      "1        Afghanistan                                               2013   \n",
      "2        Afghanistan                                               2012   \n",
      "3        Afghanistan                                               2011   \n",
      "4        Afghanistan                                               2010   \n",
      "...              ...                                                ...   \n",
      "4671             176                                   NTIA/CPS survey.   \n",
      "4672             177                     Pew Internet Project, Internet   \n",
      "4673             178  Estimated based on Survey's results. Populatio...   \n",
      "4674             179                     Preliminary. Country estimate.   \n",
      "4675             180  The methodology used to estimated the figure f...   \n",
      "\n",
      "                                     Value  \n",
      "0                                     6.39  \n",
      "1                                      5.9  \n",
      "2                         5.45454545454545  \n",
      "3                                        5  \n",
      "4                                        4  \n",
      "...                                    ...  \n",
      "4671                                   NaN  \n",
      "4672   Broadband and cell phone statistics  \n",
      "4673                                   NaN  \n",
      "4674                                   NaN  \n",
      "4675                                   NaN  \n",
      "\n",
      "[4676 rows x 3 columns]\n"
     ]
    }
   ],
   "source": [
    "print(internet_df)"
   ]
  },
  {
   "cell_type": "code",
   "execution_count": 85,
   "metadata": {},
   "outputs": [
    {
     "name": "stdout",
     "output_type": "stream",
     "text": [
      "       Country  Year  GDP_Per_Capita\n",
      "0  Afghanistan  2018     1734.723214\n",
      "1  Afghanistan  2017     1758.465636\n",
      "2  Afghanistan  2016     1757.023490\n",
      "3  Afghanistan  2015     1766.593077\n",
      "4  Afghanistan  2014     1795.735834\n",
      "5  Afghanistan  2013     1807.762344\n"
     ]
    }
   ],
   "source": [
    "gdp_df_new=gdp_df.rename(columns={'Country or Area':'Country','Value':'GDP_Per_Capita'})\n",
    "print(gdp_df_new.head(6))"
   ]
  },
  {
   "cell_type": "code",
   "execution_count": 86,
   "metadata": {},
   "outputs": [
    {
     "name": "stdout",
     "output_type": "stream",
     "text": [
      "            Country                                      Year  GDP_Per_Capita\n",
      "6725       Zimbabwe                                      1993     2572.870395\n",
      "6726       Zimbabwe                                      1992     2591.007534\n",
      "6727       Zimbabwe                                      1991     2906.272849\n",
      "6728       Zimbabwe                                      1990     2819.549467\n",
      "6729  footnoteSeqID                                  Footnote             NaN\n",
      "6730              2  Excludes South Sudan after July 9, 2011.             NaN\n"
     ]
    }
   ],
   "source": [
    "print(gdp_df_new.tail(6))"
   ]
  },
  {
   "cell_type": "code",
   "execution_count": 87,
   "metadata": {},
   "outputs": [
    {
     "name": "stdout",
     "output_type": "stream",
     "text": [
      "       Country  Year Internet_Users_Pct.\n",
      "0  Afghanistan  2014                6.39\n",
      "1  Afghanistan  2013                 5.9\n",
      "2  Afghanistan  2012    5.45454545454545\n",
      "3  Afghanistan  2011                   5\n",
      "4  Afghanistan  2010                   4\n",
      "5  Afghanistan  2009                3.55\n"
     ]
    }
   ],
   "source": [
    "internet_df_new=internet_df.rename(columns={'Country or Area':'Country','Value':'Internet_Users_Pct.'})\n",
    "print(internet_df_new.head(6))"
   ]
  },
  {
   "cell_type": "code",
   "execution_count": 88,
   "metadata": {},
   "outputs": [
    {
     "name": "stdout",
     "output_type": "stream",
     "text": [
      "     Country                                               Year  \\\n",
      "4670     175             Includes individuals 3 years and older   \n",
      "4671     176                                   NTIA/CPS survey.   \n",
      "4672     177                     Pew Internet Project, Internet   \n",
      "4673     178  Estimated based on Survey's results. Populatio...   \n",
      "4674     179                     Preliminary. Country estimate.   \n",
      "4675     180  The methodology used to estimated the figure f...   \n",
      "\n",
      "                       Internet_Users_Pct.  \n",
      "4670                                   NaN  \n",
      "4671                                   NaN  \n",
      "4672   Broadband and cell phone statistics  \n",
      "4673                                   NaN  \n",
      "4674                                   NaN  \n",
      "4675                                   NaN  \n"
     ]
    }
   ],
   "source": [
    "print(internet_df_new.tail(6))"
   ]
  },
  {
   "cell_type": "code",
   "execution_count": null,
   "metadata": {},
   "outputs": [],
   "source": []
  }
 ],
 "metadata": {
  "kernelspec": {
   "display_name": "Python 3",
   "language": "python",
   "name": "python3"
  },
  "language_info": {
   "codemirror_mode": {
    "name": "ipython",
    "version": 3
   },
   "file_extension": ".py",
   "mimetype": "text/x-python",
   "name": "python",
   "nbconvert_exporter": "python",
   "pygments_lexer": "ipython3",
   "version": "3.7.6"
  }
 },
 "nbformat": 4,
 "nbformat_minor": 4
}
