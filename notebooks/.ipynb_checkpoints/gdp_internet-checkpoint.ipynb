{
 "cells": [
  {
   "cell_type": "code",
   "execution_count": 142,
   "metadata": {},
   "outputs": [],
   "source": [
    "import pandas as pd \n",
    "import numpy as np  \n",
    "import matplotlib.pyplot as plt  \n",
    "import seaborn as sns"
   ]
  },
  {
   "cell_type": "code",
   "execution_count": 143,
   "metadata": {},
   "outputs": [],
   "source": [
    "%matplotlib inline"
   ]
  },
  {
   "cell_type": "code",
   "execution_count": 144,
   "metadata": {},
   "outputs": [],
   "source": [
    "gdp_df=pd.read_csv('data/gdp_percapita.csv',nrows=6729) #imports data w/o footnotes - does not affect data table in data folder"
   ]
  },
  {
   "cell_type": "code",
   "execution_count": 145,
   "metadata": {},
   "outputs": [
    {
     "name": "stdout",
     "output_type": "stream",
     "text": [
      "  Country or Area  Year        Value  Value Footnotes\n",
      "0     Afghanistan  2018  1734.723214              NaN\n",
      "1     Afghanistan  2017  1758.465636              NaN\n",
      "2     Afghanistan  2016  1757.023490              NaN\n",
      "3     Afghanistan  2015  1766.593077              NaN\n",
      "4     Afghanistan  2014  1795.735834              NaN\n",
      "5     Afghanistan  2013  1807.762344              NaN\n"
     ]
    }
   ],
   "source": [
    "print(gdp_df.head(6))"
   ]
  },
  {
   "cell_type": "code",
   "execution_count": 146,
   "metadata": {},
   "outputs": [
    {
     "name": "stdout",
     "output_type": "stream",
     "text": [
      "     Country or Area  Year        Value  Value Footnotes\n",
      "6723        Zimbabwe  1995  2736.486436              NaN\n",
      "6724        Zimbabwe  1994  2768.309953              NaN\n",
      "6725        Zimbabwe  1993  2572.870395              NaN\n",
      "6726        Zimbabwe  1992  2591.007534              NaN\n",
      "6727        Zimbabwe  1991  2906.272849              NaN\n",
      "6728        Zimbabwe  1990  2819.549467              NaN\n"
     ]
    }
   ],
   "source": [
    "print(gdp_df.tail(6))"
   ]
  },
  {
   "cell_type": "code",
   "execution_count": 147,
   "metadata": {},
   "outputs": [],
   "source": [
    "internet_df=pd.read_csv('data/internet_use.csv',nrows=4495)#imports data w/o footnotes - does not affect data table in data folder"
   ]
  },
  {
   "cell_type": "code",
   "execution_count": 148,
   "metadata": {},
   "outputs": [
    {
     "name": "stdout",
     "output_type": "stream",
     "text": [
      "  Country or Area  Year     Value  Value Footnotes\n",
      "0     Afghanistan  2014  6.390000              NaN\n",
      "1     Afghanistan  2013  5.900000              NaN\n",
      "2     Afghanistan  2012  5.454545              NaN\n",
      "3     Afghanistan  2011  5.000000              NaN\n",
      "4     Afghanistan  2010  4.000000              NaN\n",
      "5     Afghanistan  2009  3.550000              NaN\n"
     ]
    }
   ],
   "source": [
    "print(internet_df.head(6))"
   ]
  },
  {
   "cell_type": "code",
   "execution_count": 149,
   "metadata": {},
   "outputs": [
    {
     "name": "stdout",
     "output_type": "stream",
     "text": [
      "     Country or Area  Year     Value  Value Footnotes\n",
      "4489        Zimbabwe  1998  0.081648              NaN\n",
      "4490        Zimbabwe  1997  0.033080              NaN\n",
      "4491        Zimbabwe  1996  0.016790              NaN\n",
      "4492        Zimbabwe  1995  0.007684              NaN\n",
      "4493        Zimbabwe  1994  0.001739              NaN\n",
      "4494        Zimbabwe  1990  0.000000              NaN\n"
     ]
    }
   ],
   "source": [
    "print(internet_df.tail(6))"
   ]
  },
  {
   "cell_type": "code",
   "execution_count": 150,
   "metadata": {},
   "outputs": [
    {
     "name": "stdout",
     "output_type": "stream",
     "text": [
      "(6729, 4)\n"
     ]
    }
   ],
   "source": [
    "#np_gdp=np.array(gdp_df) -thought I had to convert to numpy array to see shape\n",
    "print(gdp_df.shape)"
   ]
  },
  {
   "cell_type": "code",
   "execution_count": 151,
   "metadata": {},
   "outputs": [
    {
     "name": "stdout",
     "output_type": "stream",
     "text": [
      "(4495, 4)\n"
     ]
    }
   ],
   "source": [
    "#np_internet=np.array(internet_df) -thought I had to convert to numpy array to see shape\n",
    "print(internet_df.shape)"
   ]
  },
  {
   "cell_type": "code",
   "execution_count": 152,
   "metadata": {},
   "outputs": [
    {
     "name": "stdout",
     "output_type": "stream",
     "text": [
      "<class 'pandas.core.frame.DataFrame'>\n"
     ]
    }
   ],
   "source": [
    "#print(type(np_gdp))\n",
    "print(type(gdp_df))"
   ]
  },
  {
   "cell_type": "code",
   "execution_count": 153,
   "metadata": {},
   "outputs": [
    {
     "name": "stdout",
     "output_type": "stream",
     "text": [
      "<bound method DataFrame.info of      Country or Area  Year        Value  Value Footnotes\n",
      "0        Afghanistan  2018  1734.723214              NaN\n",
      "1        Afghanistan  2017  1758.465636              NaN\n",
      "2        Afghanistan  2016  1757.023490              NaN\n",
      "3        Afghanistan  2015  1766.593077              NaN\n",
      "4        Afghanistan  2014  1795.735834              NaN\n",
      "...              ...   ...          ...              ...\n",
      "6724        Zimbabwe  1994  2768.309953              NaN\n",
      "6725        Zimbabwe  1993  2572.870395              NaN\n",
      "6726        Zimbabwe  1992  2591.007534              NaN\n",
      "6727        Zimbabwe  1991  2906.272849              NaN\n",
      "6728        Zimbabwe  1990  2819.549467              NaN\n",
      "\n",
      "[6729 rows x 4 columns]>\n"
     ]
    }
   ],
   "source": [
    "#print(np.info(np_pgd))\n",
    "print(gdp_df.info)"
   ]
  },
  {
   "cell_type": "code",
   "execution_count": 154,
   "metadata": {},
   "outputs": [
    {
     "name": "stdout",
     "output_type": "stream",
     "text": [
      "Country or Area     object\n",
      "Year                 int64\n",
      "Value              float64\n",
      "Value Footnotes    float64\n",
      "dtype: object\n"
     ]
    }
   ],
   "source": [
    "print(gdp_df.dtypes)\n",
    "\n"
   ]
  },
  {
   "cell_type": "code",
   "execution_count": 155,
   "metadata": {},
   "outputs": [
    {
     "name": "stdout",
     "output_type": "stream",
     "text": [
      "Country or Area     object\n",
      "Year                 int64\n",
      "Value              float64\n",
      "Value Footnotes    float64\n",
      "dtype: object\n"
     ]
    }
   ],
   "source": [
    "print(internet_df.dtypes)"
   ]
  },
  {
   "cell_type": "code",
   "execution_count": 156,
   "metadata": {},
   "outputs": [
    {
     "name": "stdout",
     "output_type": "stream",
     "text": [
      "     Country or Area  Year        Value  Value Footnotes\n",
      "6719        Zimbabwe  1999  3054.064189              NaN\n",
      "6720        Zimbabwe  1998  3099.076182              NaN\n",
      "6721        Zimbabwe  1997  3036.422224              NaN\n",
      "6722        Zimbabwe  1996  2985.856605              NaN\n",
      "6723        Zimbabwe  1995  2736.486436              NaN\n",
      "6724        Zimbabwe  1994  2768.309953              NaN\n",
      "6725        Zimbabwe  1993  2572.870395              NaN\n",
      "6726        Zimbabwe  1992  2591.007534              NaN\n",
      "6727        Zimbabwe  1991  2906.272849              NaN\n",
      "6728        Zimbabwe  1990  2819.549467              NaN\n"
     ]
    }
   ],
   "source": [
    "print(gdp_df.tail(10))"
   ]
  },
  {
   "cell_type": "code",
   "execution_count": 157,
   "metadata": {},
   "outputs": [
    {
     "name": "stdout",
     "output_type": "stream",
     "text": [
      "     Country or Area  Year     Value  Value Footnotes\n",
      "4485        Zimbabwe  2002  3.994356              NaN\n",
      "4486        Zimbabwe  2001  0.799846              NaN\n",
      "4487        Zimbabwe  2000  0.401434              NaN\n",
      "4488        Zimbabwe  1999  0.161676              NaN\n",
      "4489        Zimbabwe  1998  0.081648              NaN\n",
      "4490        Zimbabwe  1997  0.033080              NaN\n",
      "4491        Zimbabwe  1996  0.016790              NaN\n",
      "4492        Zimbabwe  1995  0.007684              NaN\n",
      "4493        Zimbabwe  1994  0.001739              NaN\n",
      "4494        Zimbabwe  1990  0.000000              NaN\n"
     ]
    }
   ],
   "source": [
    "print(internet_df.tail(10))"
   ]
  },
  {
   "cell_type": "code",
   "execution_count": 158,
   "metadata": {},
   "outputs": [
    {
     "data": {
      "text/plain": [
       "0      NaN\n",
       "1      NaN\n",
       "2      NaN\n",
       "3      NaN\n",
       "4      NaN\n",
       "        ..\n",
       "6724   NaN\n",
       "6725   NaN\n",
       "6726   NaN\n",
       "6727   NaN\n",
       "6728   NaN\n",
       "Name: Value Footnotes, Length: 6729, dtype: float64"
      ]
     },
     "execution_count": 158,
     "metadata": {},
     "output_type": "execute_result"
    }
   ],
   "source": [
    "gdp_df.pop('Value Footnotes')"
   ]
  },
  {
   "cell_type": "code",
   "execution_count": 159,
   "metadata": {},
   "outputs": [
    {
     "name": "stdout",
     "output_type": "stream",
     "text": [
      "     Country or Area  Year        Value\n",
      "0        Afghanistan  2018  1734.723214\n",
      "1        Afghanistan  2017  1758.465636\n",
      "2        Afghanistan  2016  1757.023490\n",
      "3        Afghanistan  2015  1766.593077\n",
      "4        Afghanistan  2014  1795.735834\n",
      "...              ...   ...          ...\n",
      "6724        Zimbabwe  1994  2768.309953\n",
      "6725        Zimbabwe  1993  2572.870395\n",
      "6726        Zimbabwe  1992  2591.007534\n",
      "6727        Zimbabwe  1991  2906.272849\n",
      "6728        Zimbabwe  1990  2819.549467\n",
      "\n",
      "[6729 rows x 3 columns]\n"
     ]
    }
   ],
   "source": [
    "print(gdp_df)"
   ]
  },
  {
   "cell_type": "code",
   "execution_count": 160,
   "metadata": {},
   "outputs": [
    {
     "data": {
      "text/plain": [
       "0      NaN\n",
       "1      NaN\n",
       "2      NaN\n",
       "3      NaN\n",
       "4      NaN\n",
       "        ..\n",
       "4490   NaN\n",
       "4491   NaN\n",
       "4492   NaN\n",
       "4493   NaN\n",
       "4494   NaN\n",
       "Name: Value Footnotes, Length: 4495, dtype: float64"
      ]
     },
     "execution_count": 160,
     "metadata": {},
     "output_type": "execute_result"
    }
   ],
   "source": [
    "internet_df.pop('Value Footnotes')"
   ]
  },
  {
   "cell_type": "code",
   "execution_count": 161,
   "metadata": {},
   "outputs": [
    {
     "name": "stdout",
     "output_type": "stream",
     "text": [
      "     Country or Area  Year     Value\n",
      "0        Afghanistan  2014  6.390000\n",
      "1        Afghanistan  2013  5.900000\n",
      "2        Afghanistan  2012  5.454545\n",
      "3        Afghanistan  2011  5.000000\n",
      "4        Afghanistan  2010  4.000000\n",
      "...              ...   ...       ...\n",
      "4490        Zimbabwe  1997  0.033080\n",
      "4491        Zimbabwe  1996  0.016790\n",
      "4492        Zimbabwe  1995  0.007684\n",
      "4493        Zimbabwe  1994  0.001739\n",
      "4494        Zimbabwe  1990  0.000000\n",
      "\n",
      "[4495 rows x 3 columns]\n"
     ]
    }
   ],
   "source": [
    "print(internet_df)"
   ]
  },
  {
   "cell_type": "code",
   "execution_count": 162,
   "metadata": {},
   "outputs": [
    {
     "name": "stdout",
     "output_type": "stream",
     "text": [
      "       Country  Year  GDP_Per_Capita\n",
      "0  Afghanistan  2018     1734.723214\n",
      "1  Afghanistan  2017     1758.465636\n",
      "2  Afghanistan  2016     1757.023490\n",
      "3  Afghanistan  2015     1766.593077\n",
      "4  Afghanistan  2014     1795.735834\n",
      "5  Afghanistan  2013     1807.762344\n"
     ]
    }
   ],
   "source": [
    "gdp_df_new=gdp_df.rename(columns={'Country or Area':'Country','Value':'GDP_Per_Capita'})\n",
    "print(gdp_df_new.head(6))"
   ]
  },
  {
   "cell_type": "code",
   "execution_count": 163,
   "metadata": {},
   "outputs": [
    {
     "name": "stdout",
     "output_type": "stream",
     "text": [
      "       Country  Year  GDP_Per_Capita\n",
      "6723  Zimbabwe  1995     2736.486436\n",
      "6724  Zimbabwe  1994     2768.309953\n",
      "6725  Zimbabwe  1993     2572.870395\n",
      "6726  Zimbabwe  1992     2591.007534\n",
      "6727  Zimbabwe  1991     2906.272849\n",
      "6728  Zimbabwe  1990     2819.549467\n"
     ]
    }
   ],
   "source": [
    "print(gdp_df_new.tail(6))"
   ]
  },
  {
   "cell_type": "code",
   "execution_count": 164,
   "metadata": {},
   "outputs": [
    {
     "name": "stdout",
     "output_type": "stream",
     "text": [
      "       Country  Year  Internet_Users_Pct.\n",
      "0  Afghanistan  2014             6.390000\n",
      "1  Afghanistan  2013             5.900000\n",
      "2  Afghanistan  2012             5.454545\n",
      "3  Afghanistan  2011             5.000000\n",
      "4  Afghanistan  2010             4.000000\n",
      "5  Afghanistan  2009             3.550000\n"
     ]
    }
   ],
   "source": [
    "internet_df_new=internet_df.rename(columns={'Country or Area':'Country','Value':'Internet_Users_Pct.'})\n",
    "print(internet_df_new.head(6))"
   ]
  },
  {
   "cell_type": "code",
   "execution_count": 172,
   "metadata": {},
   "outputs": [
    {
     "name": "stdout",
     "output_type": "stream",
     "text": [
      "       Country  Year  Internet_Users_Pct.\n",
      "4489  Zimbabwe  1998             0.081648\n",
      "4490  Zimbabwe  1997             0.033080\n",
      "4491  Zimbabwe  1996             0.016790\n",
      "4492  Zimbabwe  1995             0.007684\n",
      "4493  Zimbabwe  1994             0.001739\n",
      "4494  Zimbabwe  1990             0.000000\n"
     ]
    }
   ],
   "source": [
    "print(internet_df_new.tail(6))"
   ]
  },
  {
   "cell_type": "code",
   "execution_count": 184,
   "metadata": {},
   "outputs": [
    {
     "name": "stdout",
     "output_type": "stream",
     "text": [
      "          Country  Year  GDP_Per_Capita  Internet_Users_Pct.\n",
      "0     Afghanistan  2014     1795.735834             6.390000\n",
      "1     Afghanistan  2013     1807.762344             5.900000\n",
      "2     Afghanistan  2012     1772.764974             5.454545\n",
      "3     Afghanistan  2011     1626.764793             5.000000\n",
      "4     Afghanistan  2010     1671.581238             4.000000\n",
      "...           ...   ...             ...                  ...\n",
      "3514     Zimbabwe  1997     3036.422224             0.033080\n",
      "3515     Zimbabwe  1996     2985.856605             0.016790\n",
      "3516     Zimbabwe  1995     2736.486436             0.007684\n",
      "3517     Zimbabwe  1994     2768.309953             0.001739\n",
      "3518     Zimbabwe  1990     2819.549467             0.000000\n",
      "\n",
      "[3519 rows x 4 columns]\n"
     ]
    }
   ],
   "source": [
    "gdp_and_internet_use=pd.merge(gdp_df_new,internet_df_new,on=['Country','Year'],how='inner')\n",
    "print(gdp_and_internet_use)"
   ]
  },
  {
   "cell_type": "markdown",
   "metadata": {},
   "source": [
    "An outer join creates a dataframe with 7705 rows, a left join creates a dataframe with 6729 rows, and a right join createsa dataframe with 4495 rows. All three of these create null values, which the inner join avoids. Since there needs to be values for all four columns in every row in order to answer some of the questions, an inner join is preferable. "
   ]
  },
  {
   "cell_type": "markdown",
   "metadata": {},
   "source": [
    "gdp_df has 6729 rows (after dropping footnotes) and internet_df has 4495 rows (after dropping footnotes) \n",
    "gdp_and_internet_use has 3519 rows: 3210 fewer than gdp_df and 1285 fewer than internet_df"
   ]
  },
  {
   "cell_type": "code",
   "execution_count": 190,
   "metadata": {},
   "outputs": [
    {
     "name": "stdout",
     "output_type": "stream",
     "text": [
      "          Country  Year  GDP_Per_Capita  Internet_Users_Pct.\n",
      "0     Afghanistan  2014     1795.735834             6.390000\n",
      "5     Afghanistan  2009     1502.354073             3.550000\n",
      "10    Afghanistan  2004     1025.208245             0.105809\n",
      "13        Albania  2014    10700.993216            60.100000\n",
      "18        Albania  2009     9525.377979            41.200000\n",
      "...           ...   ...             ...                  ...\n",
      "3480       Zambia  2009     3115.937579             6.310000\n",
      "3485       Zambia  2004     2415.590117             2.013550\n",
      "3497     Zimbabwe  2014     2506.490220            19.890000\n",
      "3502     Zimbabwe  2009     1632.999866            11.360000\n",
      "3507     Zimbabwe  2004     2104.143512             6.564045\n",
      "\n",
      "[488 rows x 4 columns]\n"
     ]
    }
   ],
   "source": [
    "gdp_internet_subset=gdp_and_internet_use[gdp_and_internet_use['Year'].isin(['2004','2009','2014'])]\n",
    "print(gdp_internet_subset)"
   ]
  },
  {
   "cell_type": "code",
   "execution_count": 192,
   "metadata": {},
   "outputs": [
    {
     "name": "stdout",
     "output_type": "stream",
     "text": [
      "     Country or Area  Year         Value\n",
      "4        Afghanistan  2014   1795.735834\n",
      "9        Afghanistan  2009   1502.354073\n",
      "14       Afghanistan  2004   1025.208245\n",
      "21           Albania  2014  10700.993216\n",
      "26           Albania  2009   9525.377979\n",
      "...              ...   ...           ...\n",
      "6680          Zambia  2009   3115.937579\n",
      "6685          Zambia  2004   2415.590117\n",
      "6704        Zimbabwe  2014   2506.490220\n",
      "6709        Zimbabwe  2009   1632.999866\n",
      "6714        Zimbabwe  2004   2104.143512\n",
      "\n",
      "[719 rows x 3 columns]\n"
     ]
    }
   ],
   "source": [
    "gdp_df_subset=gdp_df[gdp_df['Year'].isin(['2004','2009','2014'])]\n",
    "print(gdp_df_subset)"
   ]
  },
  {
   "cell_type": "code",
   "execution_count": 193,
   "metadata": {},
   "outputs": [
    {
     "name": "stdout",
     "output_type": "stream",
     "text": [
      "     Country or Area  Year      Value\n",
      "4        Afghanistan  2010   4.000000\n",
      "9        Afghanistan  2005   1.224148\n",
      "14       Afghanistan  1990   0.000000\n",
      "21           Albania  2008  23.860000\n",
      "26           Albania  2003   0.971900\n",
      "...              ...   ...        ...\n",
      "4448           Yemen  1997   0.015025\n",
      "4453          Zambia  2012  13.468200\n",
      "4472          Zambia  1990   0.000000\n",
      "4477        Zimbabwe  2010  11.500000\n",
      "4482        Zimbabwe  2005   8.015978\n",
      "\n",
      "[477 rows x 3 columns]\n"
     ]
    },
    {
     "name": "stderr",
     "output_type": "stream",
     "text": [
      "/opt/anaconda3/lib/python3.7/site-packages/ipykernel_launcher.py:1: UserWarning: Boolean Series key will be reindexed to match DataFrame index.\n",
      "  \"\"\"Entry point for launching an IPython kernel.\n"
     ]
    }
   ],
   "source": [
    "internet_df_subset=internet_df[gdp_df['Year'].isin(['2004','2009','2014'])]\n",
    "print(internet_df_subset)"
   ]
  },
  {
   "cell_type": "code",
   "execution_count": null,
   "metadata": {},
   "outputs": [],
   "source": []
  }
 ],
 "metadata": {
  "kernelspec": {
   "display_name": "Python 3",
   "language": "python",
   "name": "python3"
  },
  "language_info": {
   "codemirror_mode": {
    "name": "ipython",
    "version": 3
   },
   "file_extension": ".py",
   "mimetype": "text/x-python",
   "name": "python",
   "nbconvert_exporter": "python",
   "pygments_lexer": "ipython3",
   "version": "3.7.6"
  }
 },
 "nbformat": 4,
 "nbformat_minor": 4
}
